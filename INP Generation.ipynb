{
 "cells": [
  {
   "cell_type": "code",
   "execution_count": 3,
   "id": "0d42ef4f-1513-4af9-aa3a-af0b3bbbb2f0",
   "metadata": {},
   "outputs": [],
   "source": [
    "import numpy as np\n",
    "\n",
    "# Some natural constants\n",
    "#\n",
    "au  = 1.49598e13     # Astronomical Unit       [cm]\n",
    "pc  = 3.08572e18     # Parsec                  [cm]\n",
    "ms  = 1.98892e33     # Solar mass              [g]\n",
    "ts  = 5.78e3         # Solar temperature       [K]\n",
    "ls  = 3.8525e33      # Solar luminosity        [erg/s]\n",
    "rs  = 6.96e10        # Solar radius            [cm]\n",
    "#"
   ]
  },
  {
   "cell_type": "code",
   "execution_count": 4,
   "id": "fe258959-987d-432e-8d18-1346f7581612",
   "metadata": {},
   "outputs": [],
   "source": [
    "#DEFINE X BOUNDS AND SIZE\n",
    "x_start = .01*au\n",
    "x_break = .1*au\n",
    "x_end = 2000*au\n",
    "x_end2 = 6000*au\n",
    "x_hires_size = 80\n",
    "x_lowres_size = 144\n",
    "x_verylow_size = 20\n",
    "x_size = x_hires_size + x_lowres_size +x_verylow_size\n",
    "\n",
    "#DEFINE Y BOUNDS AND SIZE\n",
    "y_start = 0\n",
    "y_break = np.pi/2 - np.deg2rad(65)\n",
    "y_end = np.pi/2\n",
    "y_hires_size = 139\n",
    "y_lowres_size = 10\n",
    "y_size = y_hires_size + y_lowres_size\n",
    "\n",
    "#DEFINE Z BOUNDS AND SIZE\n",
    "z_start = 0\n",
    "z_end = np.pi*2\n",
    "z_size = 1\n",
    "\n",
    "#DEFINE X, Y, Z COORDS\n",
    "x_hires = np.geomspace(x_start, x_break, num=x_hires_size, endpoint=False)\n",
    "x_lowres = np.geomspace(x_break, x_end, num=x_lowres_size, endpoint=False)\n",
    "x_verylow = np.geomspace(x_end, x_end2, num=x_verylow_size+1)\n",
    "x_vals = np.concatenate((x_hires, x_lowres, x_verylow))\n",
    "x_vals_old = np.geomspace(x_start, x_end,num=x_size+1)\n",
    "\n",
    "y_lowres = np.linspace(y_start, y_break, num=y_lowres_size, endpoint=False)\n",
    "y_hires = np.linspace(y_break, y_end, num=y_hires_size+1)\n",
    "y_vals = np.concatenate((y_lowres, y_hires))\n",
    "y_vals_old = np.linspace(y_start, y_end, num=y_size+1)\n",
    "\n",
    "z_vals = np.linspace(z_start, z_end, num=z_size+1)\n",
    "# X Y Z for RHO...CANNOT BE +1\n",
    "#x_rvals = np.geomspace(x_start, x_end,num=x_size)\n",
    "x_rvals = ( x_vals[1:] + x_vals[:-1]) / 2\n",
    "y_rvals = ( y_vals[1:] + y_vals[:-1]) / 2\n",
    "z_rvals = np.linspace(z_start, z_end, num=z_size)"
   ]
  },
  {
   "cell_type": "code",
   "execution_count": 5,
   "id": "048e85a2-5035-4373-b33e-05dfb7e14f3b",
   "metadata": {},
   "outputs": [],
   "source": [
    "with open('amr_grid.inp','w+') as f:\n",
    "    f.write('1\\n')                       # iformat\n",
    "    f.write('0\\n')                       # AMR grid style  (0=regular grid, no AMR)\n",
    "    f.write('100\\n')                       # Coordinate system\n",
    "    f.write('0\\n')                       # gridinfo\n",
    "    f.write('1 1 0\\n')                   # Include x,y,z coordinate\n",
    "    f.write('%d %d %d\\n'%(x_size,y_size,z_size))     # Size of grid\n",
    "    for value in x_vals:\n",
    "        f.write('%13.6e\\n'%(value))      # X coordinates (cell walls)\n",
    "    for value in y_vals:\n",
    "        f.write('%13.6e\\n'%(value))      # Y coordinates (cell walls)\n",
    "    for value in z_vals:\n",
    "        f.write('%13.6e\\n'%(value))      # Z coordinates (cell walls)"
   ]
  },
  {
   "cell_type": "code",
   "execution_count": 6,
   "id": "01d4193e-35c1-4764-afdd-f0123a5e964f",
   "metadata": {},
   "outputs": [
    {
     "name": "stdout",
     "output_type": "stream",
     "text": [
      "130\n"
     ]
    }
   ],
   "source": [
    "wav_start = .01\n",
    "wav_break1 = .32\n",
    "wav_break2 = 500\n",
    "wav_end = 1e4\n",
    "pts1 = 30\n",
    "pts2 = 80\n",
    "pts3 = 20\n",
    "cam_nlam = pts1 + pts2 + pts3\n",
    "wavs1 = np.geomspace(wav_start, wav_break1, num=pts1, endpoint=False)\n",
    "wavs2 = np.geomspace(wav_break1, wav_break2, num=pts2, endpoint=False)\n",
    "wavs3 = np.geomspace(wav_break2, wav_end, num=pts3)\n",
    "camera_wavs = np.concatenate((wavs1, wavs2, wavs3))\n",
    "print(camera_wavs.size)"
   ]
  },
  {
   "cell_type": "code",
   "execution_count": 7,
   "id": "e49cd766-bf8e-452c-9db3-e42026822281",
   "metadata": {},
   "outputs": [],
   "source": [
    "with open('camera_wavelength_micron.inp','w+') as f:\n",
    "    f.write(str(cam_nlam)+'\\n')                       # number of pts\n",
    "    for value in camera_wavs:\n",
    "        f.write('%13.6e\\n'%(value))      # write wavelengths"
   ]
  },
  {
   "cell_type": "code",
   "execution_count": null,
   "id": "96f60ed0-49f6-4dc4-95f7-30aa42a04339",
   "metadata": {},
   "outputs": [],
   "source": []
  }
 ],
 "metadata": {
  "kernelspec": {
   "display_name": "Python 3 (ipykernel)",
   "language": "python",
   "name": "python3"
  },
  "language_info": {
   "codemirror_mode": {
    "name": "ipython",
    "version": 3
   },
   "file_extension": ".py",
   "mimetype": "text/x-python",
   "name": "python",
   "nbconvert_exporter": "python",
   "pygments_lexer": "ipython3",
   "version": "3.10.12"
  }
 },
 "nbformat": 4,
 "nbformat_minor": 5
}
