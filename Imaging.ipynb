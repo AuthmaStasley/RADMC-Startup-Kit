{
 "cells": [
  {
   "cell_type": "code",
   "execution_count": 1,
   "id": "4ad160c3-fe8c-4ab0-aaa1-05ba99bc1ba6",
   "metadata": {},
   "outputs": [],
   "source": [
    "import os\n",
    "import sys\n",
    "\n",
    "home = os.environ[\"HOME\"]\n",
    "sys.path.append(home+'/bin/python')"
   ]
  },
  {
   "cell_type": "code",
   "execution_count": 2,
   "id": "f3974130-4c89-4dfe-97bc-dddcbab94a09",
   "metadata": {},
   "outputs": [],
   "source": [
    "from matplotlib import cm\n",
    "from radmc3dPy.image import *\n",
    "from radmc3dPy.analyze import *\n",
    "from radmc3dPy.natconst import *\n",
    "from radmc3dPy.data import *\n",
    "\n",
    "dpc = 140."
   ]
  },
  {
   "cell_type": "code",
   "execution_count": 3,
   "id": "e5121dbb-ab29-43c3-891e-d99c96dd3007",
   "metadata": {},
   "outputs": [
    {
     "ename": "FileNotFoundError",
     "evalue": "[Errno 2] No such file or directory: 'amr_grid.inp'",
     "output_type": "error",
     "traceback": [
      "\u001b[0;31m---------------------------------------------------------------------------\u001b[0m",
      "\u001b[0;31mFileNotFoundError\u001b[0m                         Traceback (most recent call last)",
      "\u001b[0;32m/tmp/ipykernel_95967/2413264958.py\u001b[0m in \u001b[0;36m<module>\u001b[0;34m\u001b[0m\n\u001b[0;32m----> 1\u001b[0;31m \u001b[0mdata\u001b[0m \u001b[0;34m=\u001b[0m \u001b[0mreadData\u001b[0m\u001b[0;34m(\u001b[0m\u001b[0;34m)\u001b[0m\u001b[0;34m\u001b[0m\u001b[0;34m\u001b[0m\u001b[0m\n\u001b[0m",
      "\u001b[0;32m~/.local/lib/python3.10/site-packages/radmc3dPy/analyze.py\u001b[0m in \u001b[0;36mreadData\u001b[0;34m(ddens, dtemp, gdens, gtemp, gvel, ispec, vturb, grid, old, binary)\u001b[0m\n\u001b[1;32m     89\u001b[0m         \u001b[0mres\u001b[0m \u001b[0;34m=\u001b[0m \u001b[0mradmc3dData\u001b[0m\u001b[0;34m(\u001b[0m\u001b[0mgrid\u001b[0m\u001b[0;34m=\u001b[0m\u001b[0mgrid\u001b[0m\u001b[0;34m)\u001b[0m\u001b[0;34m\u001b[0m\u001b[0;34m\u001b[0m\u001b[0m\n\u001b[1;32m     90\u001b[0m     \u001b[0;32melse\u001b[0m\u001b[0;34m:\u001b[0m\u001b[0;34m\u001b[0m\u001b[0;34m\u001b[0m\u001b[0m\n\u001b[0;32m---> 91\u001b[0;31m         \u001b[0mres\u001b[0m \u001b[0;34m=\u001b[0m \u001b[0mradmc3dData\u001b[0m\u001b[0;34m(\u001b[0m\u001b[0;34m)\u001b[0m\u001b[0;34m\u001b[0m\u001b[0;34m\u001b[0m\u001b[0m\n\u001b[0m\u001b[1;32m     92\u001b[0m \u001b[0;34m\u001b[0m\u001b[0m\n\u001b[1;32m     93\u001b[0m     \u001b[0;31m# By default: read everything\u001b[0m\u001b[0;34m\u001b[0m\u001b[0;34m\u001b[0m\u001b[0m\n",
      "\u001b[0;32m~/.local/lib/python3.10/site-packages/radmc3dPy/data.py\u001b[0m in \u001b[0;36m__init__\u001b[0;34m(self, grid)\u001b[0m\n\u001b[1;32m    147\u001b[0m             \u001b[0mself\u001b[0m\u001b[0;34m.\u001b[0m\u001b[0mgrid\u001b[0m \u001b[0;34m=\u001b[0m \u001b[0mgrid\u001b[0m\u001b[0;34m\u001b[0m\u001b[0;34m\u001b[0m\u001b[0m\n\u001b[1;32m    148\u001b[0m         \u001b[0;32melse\u001b[0m\u001b[0;34m:\u001b[0m\u001b[0;34m\u001b[0m\u001b[0;34m\u001b[0m\u001b[0m\n\u001b[0;32m--> 149\u001b[0;31m             \u001b[0mself\u001b[0m\u001b[0;34m.\u001b[0m\u001b[0mgrid\u001b[0m   \u001b[0;34m=\u001b[0m \u001b[0mreadGrid\u001b[0m\u001b[0;34m(\u001b[0m\u001b[0;34m)\u001b[0m\u001b[0;34m\u001b[0m\u001b[0;34m\u001b[0m\u001b[0m\n\u001b[0m\u001b[1;32m    150\u001b[0m \u001b[0;34m\u001b[0m\u001b[0m\n\u001b[1;32m    151\u001b[0m         \u001b[0mself\u001b[0m\u001b[0;34m.\u001b[0m\u001b[0moctree\u001b[0m \u001b[0;34m=\u001b[0m \u001b[0mself\u001b[0m\u001b[0;34m.\u001b[0m\u001b[0mgrid\u001b[0m\u001b[0;34m.\u001b[0m\u001b[0moctree\u001b[0m\u001b[0;34m\u001b[0m\u001b[0;34m\u001b[0m\u001b[0m\n",
      "\u001b[0;32m~/.local/lib/python3.10/site-packages/radmc3dPy/data.py\u001b[0m in \u001b[0;36mreadGrid\u001b[0;34m(sgrid, wgrid, sgrid_fname, wgrid_fname, old)\u001b[0m\n\u001b[1;32m     63\u001b[0m             \u001b[0;32mif\u001b[0m \u001b[0msgrid_fname\u001b[0m \u001b[0;32mis\u001b[0m \u001b[0;32mNone\u001b[0m\u001b[0;34m:\u001b[0m\u001b[0;34m\u001b[0m\u001b[0;34m\u001b[0m\u001b[0m\n\u001b[1;32m     64\u001b[0m                 \u001b[0msgrid_fname\u001b[0m \u001b[0;34m=\u001b[0m \u001b[0;34m'amr_grid.inp'\u001b[0m\u001b[0;34m\u001b[0m\u001b[0;34m\u001b[0m\u001b[0m\n\u001b[0;32m---> 65\u001b[0;31m             \u001b[0mhdr\u001b[0m \u001b[0;34m=\u001b[0m \u001b[0mnp\u001b[0m\u001b[0;34m.\u001b[0m\u001b[0mfromfile\u001b[0m\u001b[0;34m(\u001b[0m\u001b[0msgrid_fname\u001b[0m\u001b[0;34m,\u001b[0m \u001b[0mcount\u001b[0m\u001b[0;34m=\u001b[0m\u001b[0;36m7\u001b[0m\u001b[0;34m,\u001b[0m \u001b[0msep\u001b[0m\u001b[0;34m=\u001b[0m\u001b[0;34m\"\\n\"\u001b[0m\u001b[0;34m,\u001b[0m \u001b[0mdtype\u001b[0m\u001b[0;34m=\u001b[0m\u001b[0mnp\u001b[0m\u001b[0;34m.\u001b[0m\u001b[0mint\u001b[0m\u001b[0;34m)\u001b[0m\u001b[0;34m\u001b[0m\u001b[0;34m\u001b[0m\u001b[0m\n\u001b[0m\u001b[1;32m     66\u001b[0m             \u001b[0;32mif\u001b[0m \u001b[0mhdr\u001b[0m\u001b[0;34m[\u001b[0m\u001b[0;36m1\u001b[0m\u001b[0;34m]\u001b[0m \u001b[0;34m==\u001b[0m \u001b[0;36m0\u001b[0m\u001b[0;34m:\u001b[0m\u001b[0;34m\u001b[0m\u001b[0;34m\u001b[0m\u001b[0m\n\u001b[1;32m     67\u001b[0m                 \u001b[0mgrid\u001b[0m \u001b[0;34m=\u001b[0m \u001b[0mradmc3dGrid\u001b[0m\u001b[0;34m(\u001b[0m\u001b[0;34m)\u001b[0m\u001b[0;34m\u001b[0m\u001b[0;34m\u001b[0m\u001b[0m\n",
      "\u001b[0;31mFileNotFoundError\u001b[0m: [Errno 2] No such file or directory: 'amr_grid.inp'"
     ]
    }
   ],
   "source": [
    "data = readData()\n"
   ]
  },
  {
   "cell_type": "code",
   "execution_count": null,
   "id": "05b0143c-ff72-4afd-b5b3-7c9f5e870761",
   "metadata": {},
   "outputs": [],
   "source": [
    "import matplotlib.pyplot as plt\n",
    "import numpy as np\n",
    "from matplotlib import gridspec, cm, ticker\n",
    "index = 34\n",
    "gs=gridspec.GridSpec(1,1)\n",
    "gs.update(wspace=0.205, hspace=0.105) \n",
    "fig=plt.figure(figsize=(100,100))\n",
    "print(data.grid.x[index]/au)\n",
    "X = data.grid.x[:index]/au#np.linspace(data.grid.xi[0]/au, data.grid.xi[-1]/au, data.grid.nx)\n",
    "Y = np.radians(np.linspace(data.grid.yi[0], np.rad2deg(data.grid.yi[-1]), data.grid.ny))\n",
    "r, theta = np.meshgrid(X,Y)\n",
    "Z1 =data.rhodust[:index,:,0,0].T+data.rhodust[:index,:,0,3].T + data.rhodust[:index,:,0,1].T + data.rhodust[:index,:,0,5].T\n",
    "#Z1 =data.rhodust[:index,:,0,2].T\n",
    "#Z1 =data.rhodust[:index,:,0,3].T \n",
    "#Z1 =data.dusttemp[:index,:,0,0].T + data.dusttemp[:index,:,0,3].T + data.dusttemp[:index,:,0,1].T + data.dusttemp[:index,:,0,5].T\n",
    "ax=fig.add_subplot(gs[0,0], projection='polar')\n",
    "print(np.max(data.rhodust[:index,:,0,0].T))\n",
    "print(np.max(data.rhodust[:index,:,0,3].T))\n",
    "ax.set_thetamin(90)\n",
    "ax.set_thetamax(0)\n",
    "#print( Z1[::-1])\n",
    "cax=ax.contourf(theta, r, Z1[::-1], 100, locator=ticker.LogLocator())\n",
    "#cax=ax.contourf(theta, r, Z1[::-1], 100)\n",
    "#cax=ax.contour(theta, r, Z1[::-1], 100, locator=ticker.LogLocator())\n",
    "#ax.set_rticks([0,10,20,40,60,100])\n",
    "ax.tick_params(colors='black', axis=\"x\", which='both', grid_alpha=.5) \n",
    "ax.tick_params(colors='black', axis=\"y\", which='both', grid_alpha=.5) \n",
    "plt.show()"
   ]
  }
 ],
 "metadata": {
  "kernelspec": {
   "display_name": "Python 3 (ipykernel)",
   "language": "python",
   "name": "python3"
  },
  "language_info": {
   "codemirror_mode": {
    "name": "ipython",
    "version": 3
   },
   "file_extension": ".py",
   "mimetype": "text/x-python",
   "name": "python",
   "nbconvert_exporter": "python",
   "pygments_lexer": "ipython3",
   "version": "3.10.12"
  }
 },
 "nbformat": 4,
 "nbformat_minor": 5
}
